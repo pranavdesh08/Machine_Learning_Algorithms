{
 "cells": [
  {
   "cell_type": "code",
   "execution_count": 1,
   "metadata": {},
   "outputs": [],
   "source": [
    "import numpy as np"
   ]
  },
  {
   "cell_type": "code",
   "execution_count": 4,
   "metadata": {},
   "outputs": [],
   "source": [
    "class PCA:\n",
    "    \n",
    "    def __init__(self, n_components):\n",
    "        self.n_components = n_components\n",
    "        sel.components = None\n",
    "        self.mean = None\n",
    "        \n",
    "        \n",
    "    def fit(self,X):\n",
    "        #calculate the mean of the data\n",
    "        self.mean = np.mean(X)\n",
    "        #calculate the variace\n",
    "        X = X - self.mean\n",
    "        \n",
    "        # calculate the covariance of the data\n",
    "        \n",
    "        cov = np.cov(X.T)\n",
    "        \n",
    "        # eigenvalues and eigenvectors\n",
    "        \n",
    "        eig_val, eig_vec = np.linalg.eig(cov)\n",
    "        \n",
    "        eig_vec = eig_vec.T\n",
    "        \n",
    "        ind = np.argsoryt(eig_val)[::-1]\n",
    "        eig_val = eig_val[ind]\n",
    "        eig_vec = eig_vec[ind]\n",
    "        \n",
    "        self.components = eig_vec[0:self.n_components]\n",
    "    \n",
    "    \n",
    "    def transfrom(self, X):\n",
    "        \n",
    "        X = X - self.mean\n",
    "        return np.dot(X, self.components.T)\n",
    "        \n",
    "        \n",
    "        "
   ]
  },
  {
   "cell_type": "code",
   "execution_count": null,
   "metadata": {},
   "outputs": [],
   "source": []
  }
 ],
 "metadata": {
  "kernelspec": {
   "display_name": "Python 3",
   "language": "python",
   "name": "python3"
  },
  "language_info": {
   "codemirror_mode": {
    "name": "ipython",
    "version": 3
   },
   "file_extension": ".py",
   "mimetype": "text/x-python",
   "name": "python",
   "nbconvert_exporter": "python",
   "pygments_lexer": "ipython3",
   "version": "3.7.6"
  }
 },
 "nbformat": 4,
 "nbformat_minor": 4
}
